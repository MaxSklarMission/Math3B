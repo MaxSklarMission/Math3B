{
 "cells": [
  {
   "cell_type": "markdown",
   "id": "f01818c9-fa07-4405-9ea4-fc2b5870e7d1",
   "metadata": {
    "tags": []
   },
   "source": [
    "## Imports"
   ]
  },
  {
   "cell_type": "code",
   "execution_count": 1,
   "id": "edf8a4e3-8af6-4525-a5bb-ce2a907fe07c",
   "metadata": {},
   "outputs": [],
   "source": [
    "import numpy\n",
    "import math\n",
    "from sympy import *\n",
    "import matplotlib.pyplot as plt"
   ]
  },
  {
   "cell_type": "markdown",
   "id": "cf257106-a76c-49db-b713-ffabfb93c82c",
   "metadata": {
    "tags": []
   },
   "source": [
    "## Partial Sums"
   ]
  },
  {
   "cell_type": "code",
   "execution_count": 17,
   "id": "7e79e1db-95df-4e82-8aaf-0174dda444e6",
   "metadata": {},
   "outputs": [],
   "source": [
    "# Define the sequence a_n\n",
    "def terms(k):\n",
    "    #return (1/2)**(k-1)\n",
    "    #return abs( (math.sin(k)/(k+1)))\n",
    "    #return 1/k**2\n",
    "    #return 1/(k*(k+1))\n",
    "    #return (-2)**(k-1)\n",
    "    #return 1/k\n",
    "    #return (-1)**(k+1)*(1/k)\n",
    "    return 1/(k**k)\n",
    "    #return 1/math.factorial(k)\n",
    "    #return math.sin(k)/k**2"
   ]
  },
  {
   "cell_type": "code",
   "execution_count": 15,
   "id": "61f7c0ee-06ee-4a91-932c-80e38c3f572a",
   "metadata": {},
   "outputs": [],
   "source": [
    "def partial_Sum(n):\n",
    "    psum = 0\n",
    "    psums = list()\n",
    "    for i in range(1, n+1):\n",
    "        psum += terms(i)\n",
    "        psums.append(psum)\n",
    "        #print(str(i)+\"\\t|\\t\"+str(psum))\n",
    "    plt.plot(range(1,n+1), psums, 'ro')\n",
    "    return psum"
   ]
  },
  {
   "cell_type": "code",
   "execution_count": 20,
   "id": "19a5e891-92f2-45ff-8d95-c9744499c731",
   "metadata": {},
   "outputs": [
    {
     "data": {
      "text/plain": [
       "1.2912859970590431"
      ]
     },
     "execution_count": 20,
     "metadata": {},
     "output_type": "execute_result"
    },
    {
     "data": {
      "image/png": "[encoded data removed]",
      "text/plain": [
       "<Figure size 640x480 with 1 Axes>"
      ]
     },
     "metadata": {},
     "output_type": "display_data"
    }
   ],
   "source": [
    "partial_Sum(10)"
   ]
  },
  {
   "cell_type": "markdown",
   "id": "920f1991-9160-4abc-bebd-c1c24bc3d0ed",
   "metadata": {
    "jp-MarkdownHeadingCollapsed": true,
    "tags": []
   },
   "source": [
    "## Comparing Series (Broken For Now)"
   ]
  },
  {
   "cell_type": "code",
   "execution_count": 21,
   "id": "b5eb2543-ec9e-4109-b5f0-07370a7f319c",
   "metadata": {},
   "outputs": [],
   "source": [
    "def partial_Sum_Compare(k):\n",
    "    n = symbols('n', integer = True)\n",
    "    Ser1 = list()\n",
    "    Ser2 = list()\n",
    "    for N in range(1, k+1):\n",
    "        a = summation(1/n,(n, 1, N))*1.0\n",
    "        b = summation(1/(n+1),(n, 1, N))*1.0\n",
    "        Ser1.append(a)\n",
    "        Ser2.append(b)\n",
    "        #print(str(N)+\"\\t|\\t\"+str(a)+\"\\t\\t|\\t\"+str(b))\n",
    "    #print(str(Ser1))\n",
    "    #print(str(Ser2))\n",
    "    plt.plot(range(1,n+1), Ser1, range(1,n+1), Ser2, 'ro')"
   ]
  },
  {
   "cell_type": "code",
   "execution_count": 22,
   "id": "db2959d6-4530-431e-9390-b4a07fb14653",
   "metadata": {},
   "outputs": [
    {
     "ename": "TypeError",
     "evalue": "'Add' object cannot be interpreted as an integer",
     "output_type": "error",
     "traceback": [
      "\u001b[1;31m---------------------------------------------------------------------------\u001b[0m",
      "\u001b[1;31mTypeError\u001b[0m                                 Traceback (most recent call last)",
      "Cell \u001b[1;32mIn[22], line 1\u001b[0m\n\u001b[1;32m----> 1\u001b[0m \u001b[43mpartial_Sum_Compare\u001b[49m\u001b[43m(\u001b[49m\u001b[38;5;241;43m100\u001b[39;49m\u001b[43m)\u001b[49m\n",
      "Cell \u001b[1;32mIn[21], line 13\u001b[0m, in \u001b[0;36mpartial_Sum_Compare\u001b[1;34m(k)\u001b[0m\n\u001b[0;32m      9\u001b[0m     Ser2\u001b[38;5;241m.\u001b[39mappend(b)\n\u001b[0;32m     10\u001b[0m     \u001b[38;5;66;03m#print(str(N)+\"\\t|\\t\"+str(a)+\"\\t\\t|\\t\"+str(b))\u001b[39;00m\n\u001b[0;32m     11\u001b[0m \u001b[38;5;66;03m#print(str(Ser1))\u001b[39;00m\n\u001b[0;32m     12\u001b[0m \u001b[38;5;66;03m#print(str(Ser2))\u001b[39;00m\n\u001b[1;32m---> 13\u001b[0m plt\u001b[38;5;241m.\u001b[39mplot(\u001b[38;5;28;43mrange\u001b[39;49m\u001b[43m(\u001b[49m\u001b[38;5;241;43m1\u001b[39;49m\u001b[43m,\u001b[49m\u001b[43mn\u001b[49m\u001b[38;5;241;43m+\u001b[39;49m\u001b[38;5;241;43m1\u001b[39;49m\u001b[43m)\u001b[49m, Ser1, \u001b[38;5;28mrange\u001b[39m(\u001b[38;5;241m1\u001b[39m,n\u001b[38;5;241m+\u001b[39m\u001b[38;5;241m1\u001b[39m), Ser2, \u001b[38;5;124m'\u001b[39m\u001b[38;5;124mro\u001b[39m\u001b[38;5;124m'\u001b[39m)\n",
      "\u001b[1;31mTypeError\u001b[0m: 'Add' object cannot be interpreted as an integer"
     ]
    }
   ],
   "source": [
    "partial_Sum_Compare(100)"
   ]
  },
  {
   "cell_type": "code",
   "execution_count": null,
   "id": "71a0e348-31c9-40a6-a69e-277872eaee8f",
   "metadata": {},
   "outputs": [],
   "source": []
  }
 ],
 "metadata": {
  "kernelspec": {
   "display_name": "Python 3 (ipykernel)",
   "language": "python",
   "name": "python3"
  },
  "language_info": {
   "codemirror_mode": {
    "name": "ipython",
    "version": 3
   },
   "file_extension": ".py",
   "mimetype": "text/x-python",
   "name": "python",
   "nbconvert_exporter": "python",
   "pygments_lexer": "ipython3",
   "version": "3.10.9"
  }
 },
 "nbformat": 4,
 "nbformat_minor": 5
}
