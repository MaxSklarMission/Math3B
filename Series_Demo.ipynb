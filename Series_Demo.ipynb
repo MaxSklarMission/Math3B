{
 "cells": [
  {
   "cell_type": "markdown",
   "id": "f01818c9-fa07-4405-9ea4-fc2b5870e7d1",
   "metadata": {
    "tags": []
   },
   "source": [
    "## Imports"
   ]
  },
  {
   "cell_type": "code",
   "execution_count": 2,
   "id": "edf8a4e3-8af6-4525-a5bb-ce2a907fe07c",
   "metadata": {
    "tags": []
   },
   "outputs": [
    {
     "name": "stderr",
     "output_type": "stream",
     "text": [
      "Matplotlib is building the font cache; this may take a moment.\n"
     ]
    }
   ],
   "source": [
    "import numpy\n",
    "import math\n",
    "#from sympy import *\n",
    "import matplotlib.pyplot as plt"
   ]
  },
  {
   "cell_type": "markdown",
   "id": "cf257106-a76c-49db-b713-ffabfb93c82c",
   "metadata": {
    "tags": []
   },
   "source": [
    "## Partial Sums"
   ]
  },
  {
   "cell_type": "code",
   "execution_count": 7,
   "id": "7e79e1db-95df-4e82-8aaf-0174dda444e6",
   "metadata": {
    "tags": []
   },
   "outputs": [],
   "source": [
    "# Define the sequence a_n\n",
    "def terms(k):\n",
    "    # Select one of the return statements to define the terms of the series.\n",
    "    # Comment all but one of the following lines.\n",
    "    # Or code your own.\n",
    "    \n",
    "    #return (-1)**(k+1)/k\n",
    "    #return (1/2)**(k-1)\n",
    "    #return (math.sin(k)/(k+1))\n",
    "    #return 1/k**(1/2)\n",
    "    #return 1/(k*(k+1))\n",
    "    #return (-2)**(k-1)\n",
    "    return 1/k\n",
    "    #return (-1)**(k+1)*(1/k)\n",
    "    #return 1/(k**k)\n",
    "    #return 1/math.factorial(k)\n",
    "    #return (math.sin(k)/k)**2\n",
    "    #return (2*k**3 + k**2)/(5*k**3 - 1)\n",
    "    #return math.log(k)/k**3\n",
    "    #return (-1)**k+1/k\n",
    "    #return k/4**(k-1)\n",
    "    #return random.randrange(-1, 2, 2) * 1/k"
   ]
  },
  {
   "cell_type": "code",
   "execution_count": 8,
   "id": "61f7c0ee-06ee-4a91-932c-80e38c3f572a",
   "metadata": {
    "tags": []
   },
   "outputs": [],
   "source": [
    "def partial_Sum(n):\n",
    "    psum = 0\n",
    "    psums = list()\n",
    "    \n",
    "    # Run through the first n terms in the series.\n",
    "    # Load the first n partial sums into the psum list.\n",
    "    \n",
    "    for i in range(1, n+1):\n",
    "        psum += terms(i)\n",
    "        psums.append(psum)\n",
    "        #print(str(i)+\"\\t|\\t\"+str(psum))\n",
    "    plt.plot(range(1,n+1), psums, 'ro')\n",
    "    return psum"
   ]
  },
  {
   "cell_type": "code",
   "execution_count": 9,
   "id": "19a5e891-92f2-45ff-8d95-c9744499c731",
   "metadata": {
    "tags": []
   },
   "outputs": [
    {
     "data": {
      "text/plain": [
       "0.6926474305598223"
      ]
     },
     "execution_count": 9,
     "metadata": {},
     "output_type": "execute_result"
    },
    {
     "data": {
      "image/png": "[encoded data removed]",
      "text/plain": [
       "<Figure size 640x480 with 1 Axes>"
      ]
     },
     "metadata": {},
     "output_type": "display_data"
    }
   ],
   "source": [
    "partial_Sum(1000)"
   ]
  }
 ],
 "metadata": {
  "kernelspec": {
   "display_name": "Python 3 (ipykernel)",
   "language": "python",
   "name": "python3"
  },
  "language_info": {
   "codemirror_mode": {
    "name": "ipython",
    "version": 3
   },
   "file_extension": ".py",
   "mimetype": "text/x-python",
   "name": "python",
   "nbconvert_exporter": "python",
   "pygments_lexer": "ipython3",
   "version": "3.12.3"
  }
 },
 "nbformat": 4,
 "nbformat_minor": 5
}
